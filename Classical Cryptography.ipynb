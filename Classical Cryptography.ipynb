{
 "cells": [
  {
   "cell_type": "markdown",
   "metadata": {},
   "source": [
    "# The decode and encode of Caesar cipher"
   ]
  },
  {
   "cell_type": "markdown",
   "metadata": {},
   "source": [
    "Fu TianShu"
   ]
  },
  {
   "cell_type": "markdown",
   "metadata": {},
   "source": [
    "2016210898"
   ]
  },
  {
   "cell_type": "markdown",
   "metadata": {},
   "source": [
    "\n",
    "## The distribution of the words in a text"
   ]
  },
  {
   "cell_type": "markdown",
   "metadata": {},
   "source": [
    "##    As we know that there are a list of distribution of letters in the text. During classes, professor Xu showed us the distribution of the letters in general  and had used it as a vital tool to decrepit the code "
   ]
  },
  {
   "cell_type": "markdown",
   "metadata": {},
   "source": [
    "## However , I was a little doubt about that since every text has a different distribution of  letters and if we use the general form to decrepit it, some inaccuracy might occur due to the difference of the distribution "
   ]
  },
  {
   "cell_type": "markdown",
   "metadata": {},
   "source": [
    "## So I deicided to download a long article from website and analysis the encryption and decription by using the distritbution of each letter"
   ]
  },
  {
   "cell_type": "markdown",
   "metadata": {},
   "source": [
    "### Import the packages we need"
   ]
  },
  {
   "cell_type": "code",
   "execution_count": 1,
   "metadata": {},
   "outputs": [],
   "source": [
    "import pandas as pd\n",
    "import numpy as np\n",
    "import seaborn as sns\n",
    "import matplotlib as plt\n",
    "from IPython.display import *\n",
    "import matplotlib.pyplot as plt"
   ]
  },
  {
   "cell_type": "markdown",
   "metadata": {},
   "source": [
    "### Load the txt of 《教父》"
   ]
  },
  {
   "cell_type": "code",
   "execution_count": 2,
   "metadata": {},
   "outputs": [],
   "source": [
    "f=open(\"《教父》小说英文版.txt\",'r')"
   ]
  },
  {
   "cell_type": "markdown",
   "metadata": {},
   "source": [
    "### Select a specific dialogue from the text and name it as a string "
   ]
  },
  {
   "cell_type": "code",
   "execution_count": 3,
   "metadata": {},
   "outputs": [],
   "source": [
    "code_1=\"Only forty years of professional mourning kept the overwhelming frustration and hatred from showing on Amerigo Bonasera's face. His beautiful young daughter was still in the hospital with her broken jaw wired together; and now these two animales went free? It had all been a farce. He watched the happy parents cluster around their darling sons. Oh, they were all happy now, they were smiling now.\""
   ]
  },
  {
   "cell_type": "markdown",
   "metadata": {},
   "source": [
    "### Count the number of occurrence of each letters in the text and make it as a descend dataframe "
   ]
  },
  {
   "cell_type": "code",
   "execution_count": 4,
   "metadata": {},
   "outputs": [],
   "source": [
    " #dictionary to hold char counts\n",
    "\n",
    "validchars = \"abcdefghijklmnopqrstuvwxyz\"\n",
    "charcount={}\n",
    "for d in validchars:\n",
    "    charcount[d]=0\n",
    "    \n",
    "for d in validchars:\n",
    "    charcount[d]=0\n",
    "validchars = \"abcdefghijklmnopqrstuvwxyz\" # only these counted\n",
    "f=open(\"《教父》小说英文版.txt\",'r')\n",
    "for words in f.read().split():\n",
    "       for word in words :\n",
    "        char=list(word)\n",
    "        for c in char:\n",
    "            d=c.lower()#Convert all the Capital phrase into lower case\n",
    "            if d in validchars:\n",
    "                charcount[d] +=1\n",
    "    \n",
    "    "
   ]
  },
  {
   "cell_type": "code",
   "execution_count": 5,
   "metadata": {},
   "outputs": [],
   "source": [
    "count_num=pd.DataFrame(charcount.items())"
   ]
  },
  {
   "cell_type": "code",
   "execution_count": 6,
   "metadata": {},
   "outputs": [],
   "source": [
    "count_num_sorted=count_num.sort_values(by=1,ascending=False)"
   ]
  },
  {
   "cell_type": "code",
   "execution_count": 7,
   "metadata": {},
   "outputs": [
    {
     "data": {
      "text/html": [
       "<div>\n",
       "<style scoped>\n",
       "    .dataframe tbody tr th:only-of-type {\n",
       "        vertical-align: middle;\n",
       "    }\n",
       "\n",
       "    .dataframe tbody tr th {\n",
       "        vertical-align: top;\n",
       "    }\n",
       "\n",
       "    .dataframe thead th {\n",
       "        text-align: right;\n",
       "    }\n",
       "</style>\n",
       "<table border=\"1\" class=\"dataframe\">\n",
       "  <thead>\n",
       "    <tr style=\"text-align: right;\">\n",
       "      <th></th>\n",
       "      <th>0</th>\n",
       "      <th>1</th>\n",
       "    </tr>\n",
       "  </thead>\n",
       "  <tbody>\n",
       "    <tr>\n",
       "      <th>3</th>\n",
       "      <td>e</td>\n",
       "      <td>90880</td>\n",
       "    </tr>\n",
       "    <tr>\n",
       "      <th>20</th>\n",
       "      <td>t</td>\n",
       "      <td>65511</td>\n",
       "    </tr>\n",
       "    <tr>\n",
       "      <th>13</th>\n",
       "      <td>o</td>\n",
       "      <td>59400</td>\n",
       "    </tr>\n",
       "    <tr>\n",
       "      <th>0</th>\n",
       "      <td>a</td>\n",
       "      <td>59203</td>\n",
       "    </tr>\n",
       "    <tr>\n",
       "      <th>14</th>\n",
       "      <td>n</td>\n",
       "      <td>51352</td>\n",
       "    </tr>\n",
       "  </tbody>\n",
       "</table>\n",
       "</div>"
      ],
      "text/plain": [
       "    0      1\n",
       "3   e  90880\n",
       "20  t  65511\n",
       "13  o  59400\n",
       "0   a  59203\n",
       "14  n  51352"
      ]
     },
     "execution_count": 7,
     "metadata": {},
     "output_type": "execute_result"
    }
   ],
   "source": [
    "count_num_sorted.head(5)"
   ]
  },
  {
   "cell_type": "markdown",
   "metadata": {},
   "source": [
    "### Change the number of occurrence to correspond  occurrence rate"
   ]
  },
  {
   "cell_type": "code",
   "execution_count": 8,
   "metadata": {},
   "outputs": [
    {
     "data": {
      "text/html": [
       "<div>\n",
       "<style scoped>\n",
       "    .dataframe tbody tr th:only-of-type {\n",
       "        vertical-align: middle;\n",
       "    }\n",
       "\n",
       "    .dataframe tbody tr th {\n",
       "        vertical-align: top;\n",
       "    }\n",
       "\n",
       "    .dataframe thead th {\n",
       "        text-align: right;\n",
       "    }\n",
       "</style>\n",
       "<table border=\"1\" class=\"dataframe\">\n",
       "  <thead>\n",
       "    <tr style=\"text-align: right;\">\n",
       "      <th></th>\n",
       "      <th>0</th>\n",
       "      <th>1</th>\n",
       "      <th>rate_of each letter</th>\n",
       "    </tr>\n",
       "  </thead>\n",
       "  <tbody>\n",
       "    <tr>\n",
       "      <th>3</th>\n",
       "      <td>e</td>\n",
       "      <td>90880</td>\n",
       "      <td>0.123421</td>\n",
       "    </tr>\n",
       "    <tr>\n",
       "      <th>20</th>\n",
       "      <td>t</td>\n",
       "      <td>65511</td>\n",
       "      <td>0.088969</td>\n",
       "    </tr>\n",
       "    <tr>\n",
       "      <th>13</th>\n",
       "      <td>o</td>\n",
       "      <td>59400</td>\n",
       "      <td>0.080669</td>\n",
       "    </tr>\n",
       "    <tr>\n",
       "      <th>0</th>\n",
       "      <td>a</td>\n",
       "      <td>59203</td>\n",
       "      <td>0.080402</td>\n",
       "    </tr>\n",
       "    <tr>\n",
       "      <th>14</th>\n",
       "      <td>n</td>\n",
       "      <td>51352</td>\n",
       "      <td>0.069740</td>\n",
       "    </tr>\n",
       "  </tbody>\n",
       "</table>\n",
       "</div>"
      ],
      "text/plain": [
       "    0      1  rate_of each letter\n",
       "3   e  90880             0.123421\n",
       "20  t  65511             0.088969\n",
       "13  o  59400             0.080669\n",
       "0   a  59203             0.080402\n",
       "14  n  51352             0.069740"
      ]
     },
     "execution_count": 8,
     "metadata": {},
     "output_type": "execute_result"
    }
   ],
   "source": [
    "count_num_sorted['rate_of each letter']=count_num_sorted[1]/sum(count_num_sorted[1])\n",
    "count_num_sorted.head(5)"
   ]
  },
  {
   "cell_type": "markdown",
   "metadata": {},
   "source": [
    "### Showing the occurrence  rate of each letters in the book of  《教父》"
   ]
  },
  {
   "cell_type": "code",
   "execution_count": 9,
   "metadata": {},
   "outputs": [],
   "source": [
    "import matplotlib.pyplot as plt"
   ]
  },
  {
   "cell_type": "code",
   "execution_count": 10,
   "metadata": {},
   "outputs": [
    {
     "data": {
      "image/png": "[encoded data removed]",
      "text/plain": [
       "<Figure size 432x288 with 1 Axes>"
      ]
     },
     "metadata": {},
     "output_type": "display_data"
    }
   ],
   "source": [
    "sns.barplot(x=count_num_sorted[0],y=count_num_sorted[\"rate_of each letter\"])\n",
    "plt.title(\"The distribution of the letters in the book\")\n",
    "sns.set(rc={'figure.figsize':(20,15)})"
   ]
  },
  {
   "cell_type": "markdown",
   "metadata": {},
   "source": [
    "### To summarize the step we had down above , we can write a function to count the occurrence number of each letters in a text"
   ]
  },
  {
   "cell_type": "code",
   "execution_count": 11,
   "metadata": {},
   "outputs": [],
   "source": [
    "def show_letter_dataframe(text):\n",
    "    validchars = \"abcdefghijklmnopqrstuvwxyz\"\n",
    "    for d in validchars:\n",
    "            charcount[d]=0\n",
    "    f=open(text,'r')\n",
    "    for words in f.read().split():\n",
    "            for word in words :\n",
    "                char=list(word)\n",
    "                for c in char:\n",
    "                        d=c.lower()#Convert all the Capital phrase into lower case\n",
    "                        if d in validchars:\n",
    "                             charcount[d] +=1\n",
    "    count_num=pd.DataFrame(charcount.items())                            \n",
    "    count_num_sorted=count_num.sort_values(by=1,ascending=False) \n",
    "    return count_num_sorted    "
   ]
  },
  {
   "cell_type": "code",
   "execution_count": 12,
   "metadata": {},
   "outputs": [
    {
     "data": {
      "text/html": [
       "<div>\n",
       "<style scoped>\n",
       "    .dataframe tbody tr th:only-of-type {\n",
       "        vertical-align: middle;\n",
       "    }\n",
       "\n",
       "    .dataframe tbody tr th {\n",
       "        vertical-align: top;\n",
       "    }\n",
       "\n",
       "    .dataframe thead th {\n",
       "        text-align: right;\n",
       "    }\n",
       "</style>\n",
       "<table border=\"1\" class=\"dataframe\">\n",
       "  <thead>\n",
       "    <tr style=\"text-align: right;\">\n",
       "      <th></th>\n",
       "      <th>0</th>\n",
       "      <th>1</th>\n",
       "    </tr>\n",
       "  </thead>\n",
       "  <tbody>\n",
       "    <tr>\n",
       "      <th>3</th>\n",
       "      <td>e</td>\n",
       "      <td>90880</td>\n",
       "    </tr>\n",
       "    <tr>\n",
       "      <th>20</th>\n",
       "      <td>t</td>\n",
       "      <td>65511</td>\n",
       "    </tr>\n",
       "    <tr>\n",
       "      <th>13</th>\n",
       "      <td>o</td>\n",
       "      <td>59400</td>\n",
       "    </tr>\n",
       "    <tr>\n",
       "      <th>0</th>\n",
       "      <td>a</td>\n",
       "      <td>59203</td>\n",
       "    </tr>\n",
       "    <tr>\n",
       "      <th>14</th>\n",
       "      <td>n</td>\n",
       "      <td>51352</td>\n",
       "    </tr>\n",
       "  </tbody>\n",
       "</table>\n",
       "</div>"
      ],
      "text/plain": [
       "    0      1\n",
       "3   e  90880\n",
       "20  t  65511\n",
       "13  o  59400\n",
       "0   a  59203\n",
       "14  n  51352"
      ]
     },
     "execution_count": 12,
     "metadata": {},
     "output_type": "execute_result"
    }
   ],
   "source": [
    "show_letter_dataframe(\"《教父》小说英文版.txt\").head(5)"
   ]
  },
  {
   "cell_type": "markdown",
   "metadata": {},
   "source": [
    "### Inorder to compare the results from the official webisite, I had searched wikiWikipedia and found the plot of the distribution of each letters in genreal "
   ]
  },
  {
   "cell_type": "markdown",
   "metadata": {},
   "source": [
    "## The distribution of each letters in general \n"
   ]
  },
  {
   "cell_type": "code",
   "execution_count": 13,
   "metadata": {},
   "outputs": [
    {
     "data": {
      "image/png": "[encoded data removed]",
      "text/plain": [
       "<IPython.core.display.Image object>"
      ]
     },
     "execution_count": 13,
     "metadata": {},
     "output_type": "execute_result"
    }
   ],
   "source": [
    "from IPython.display import Image\n",
    "Image(filename='760px-English_letter_frequency_(frequency).png')"
   ]
  },
  {
   "cell_type": "markdown",
   "metadata": {},
   "source": [
    "https://en.wikipedia.org/wiki/Letter_frequency\n",
    "    "
   ]
  },
  {
   "cell_type": "markdown",
   "metadata": {},
   "source": [
    "### After comparing the result of two distributions of letters , we found that the occurrence rate are mainly the same, however , there still shows a little difference "
   ]
  },
  {
   "cell_type": "markdown",
   "metadata": {},
   "source": [
    "# Caesar cipher\n"
   ]
  },
  {
   "cell_type": "markdown",
   "metadata": {},
   "source": [
    "## The introduction "
   ]
  },
  {
   "cell_type": "markdown",
   "metadata": {},
   "source": [
    "Caesar cipher is also called shift cipher as the type of substitution cipher in which each letter in the plaintext is replaced by a letter some fixed number of positions down the alphabet"
   ]
  },
  {
   "cell_type": "markdown",
   "metadata": {},
   "source": [
    "Here is a picture showing the basic logic of Caesar cipher"
   ]
  },
  {
   "cell_type": "code",
   "execution_count": 14,
   "metadata": {
    "scrolled": true
   },
   "outputs": [
    {
     "data": {
      "image/png": "[encoded data removed]",
      "text/plain": [
       "<IPython.core.display.Image object>"
      ]
     },
     "execution_count": 14,
     "metadata": {
      "image/png": {
       "height": 500,
       "width": 700
      }
     },
     "output_type": "execute_result"
    }
   ],
   "source": [
    "from IPython.display import Image\n",
    "Image(filename='440px-Caesar_cipher_left_shift_of_3.png',width=700,height=500)"
   ]
  },
  {
   "cell_type": "markdown",
   "metadata": {},
   "source": [
    "https://en.wikipedia.org/wiki/Caesar_cipher"
   ]
  },
  {
   "cell_type": "markdown",
   "metadata": {},
   "source": [
    "## The encode of Caesar cipher "
   ]
  },
  {
   "cell_type": "markdown",
   "metadata": {},
   "source": [
    "The way of encryption in Caesar cipher is very easy which only requires to shift amount of letters ,thus I decided to make it come true by using code "
   ]
  },
  {
   "cell_type": "markdown",
   "metadata": {},
   "source": [
    "### Select a dialogue  from the text of  《教父》"
   ]
  },
  {
   "cell_type": "markdown",
   "metadata": {},
   "source": [
    "Only forty years of professional mourning kept the overwhelming frustration and hatred from showing on Amerigo Bonasera's face. His beautiful young daughter was still in the hospital with her broken jaw wired together; and now these two animales went free? It had all been a farce. He watched the happy parents cluster around their darling sons. Oh, they were all happy now, they were smiling now."
   ]
  },
  {
   "cell_type": "markdown",
   "metadata": {},
   "source": [
    "### create a shift number randomly"
   ]
  },
  {
   "cell_type": "code",
   "execution_count": 15,
   "metadata": {},
   "outputs": [],
   "source": [
    "import random\n"
   ]
  },
  {
   "cell_type": "code",
   "execution_count": 16,
   "metadata": {},
   "outputs": [
    {
     "data": {
      "text/plain": [
       "7"
      ]
     },
     "execution_count": 16,
     "metadata": {},
     "output_type": "execute_result"
    }
   ],
   "source": [
    "random.randint(1,26)"
   ]
  },
  {
   "cell_type": "markdown",
   "metadata": {},
   "source": [
    "### Making the shifts of the random number"
   ]
  },
  {
   "cell_type": "markdown",
   "metadata": {},
   "source": [
    "#### First  we define a function to shift the number"
   ]
  },
  {
   "cell_type": "code",
   "execution_count": 17,
   "metadata": {},
   "outputs": [],
   "source": [
    "def Caesar_encode_function(text,dist):\n",
    "    T=''\n",
    "    for i in text :\n",
    "        if ord(i)>=65 and ord(i)<=90:\n",
    "                T+=chr((ord(i)-65+dist)%26+65)\n",
    "                continue\n",
    "       \n",
    "        if  ord(i)>=97 and ord(i)<=122:\n",
    "                T+=chr((ord(i)-97+dist)%26+97)\n",
    "                continue\n",
    "        else:\n",
    "            T+=i\n",
    "    return T\n"
   ]
  },
  {
   "cell_type": "markdown",
   "metadata": {},
   "source": [
    "#### Recall the dialogue we had dropped out previously"
   ]
  },
  {
   "cell_type": "code",
   "execution_count": 18,
   "metadata": {},
   "outputs": [
    {
     "data": {
      "text/plain": [
       "\"Only forty years of professional mourning kept the overwhelming frustration and hatred from showing on Amerigo Bonasera's face. His beautiful young daughter was still in the hospital with her broken jaw wired together; and now these two animales went free? It had all been a farce. He watched the happy parents cluster around their darling sons. Oh, they were all happy now, they were smiling now.\""
      ]
     },
     "execution_count": 18,
     "metadata": {},
     "output_type": "execute_result"
    }
   ],
   "source": [
    "code_1"
   ]
  },
  {
   "cell_type": "markdown",
   "metadata": {},
   "source": [
    "#### Use the function to get the result"
   ]
  },
  {
   "cell_type": "code",
   "execution_count": 19,
   "metadata": {},
   "outputs": [],
   "source": [
    "shift_2=Caesar_encode_function(code_1,2)"
   ]
  },
  {
   "cell_type": "code",
   "execution_count": 20,
   "metadata": {},
   "outputs": [
    {
     "data": {
      "text/plain": [
       "\"Qpna hqtva agctu qh rtqhguukqpcn oqwtpkpi mgrv vjg qxgtyjgnokpi htwuvtcvkqp cpf jcvtgf htqo ujqykpi qp Cogtkiq Dqpcugtc'u hceg. Jku dgcwvkhwn aqwpi fcwijvgt ycu uvknn kp vjg jqurkvcn ykvj jgt dtqmgp lcy yktgf vqigvjgt; cpf pqy vjgug vyq cpkocngu ygpv htgg? Kv jcf cnn dggp c hcteg. Jg ycvejgf vjg jcrra rctgpvu enwuvgt ctqwpf vjgkt fctnkpi uqpu. Qj, vjga ygtg cnn jcrra pqy, vjga ygtg uoknkpi pqy.\""
      ]
     },
     "execution_count": 20,
     "metadata": {},
     "output_type": "execute_result"
    }
   ],
   "source": [
    "shift_2"
   ]
  },
  {
   "cell_type": "markdown",
   "metadata": {},
   "source": [
    "#### Define a function to show the distribution of letters in a string"
   ]
  },
  {
   "cell_type": "code",
   "execution_count": 21,
   "metadata": {},
   "outputs": [],
   "source": [
    "def show_string_distribution(string):\n",
    "    validchars = \"abcdefghijklmnopqrstuvwxyz\"\n",
    "    for d in validchars:\n",
    "            charcount[d]=0\n",
    "    f=string\n",
    "    for words in f:\n",
    "            for word in words :\n",
    "                char=list(word)\n",
    "                for c in char:\n",
    "                        d=c.lower()#Convert all the Capital phrase into lower case\n",
    "                        if d in validchars:\n",
    "                             charcount[d] +=1\n",
    "    count_num=pd.DataFrame(charcount.items())                            \n",
    "    count_num_sorted=count_num.sort_values(by=1,ascending=False) \n",
    "    return count_num_sorted    "
   ]
  },
  {
   "cell_type": "markdown",
   "metadata": {},
   "source": [
    "#### Finding the number of each letters in the selected text"
   ]
  },
  {
   "cell_type": "code",
   "execution_count": 22,
   "metadata": {},
   "outputs": [
    {
     "data": {
      "text/html": [
       "<div>\n",
       "<style scoped>\n",
       "    .dataframe tbody tr th:only-of-type {\n",
       "        vertical-align: middle;\n",
       "    }\n",
       "\n",
       "    .dataframe tbody tr th {\n",
       "        vertical-align: top;\n",
       "    }\n",
       "\n",
       "    .dataframe thead th {\n",
       "        text-align: right;\n",
       "    }\n",
       "</style>\n",
       "<table border=\"1\" class=\"dataframe\">\n",
       "  <thead>\n",
       "    <tr style=\"text-align: right;\">\n",
       "      <th></th>\n",
       "      <th>0</th>\n",
       "      <th>1</th>\n",
       "    </tr>\n",
       "  </thead>\n",
       "  <tbody>\n",
       "    <tr>\n",
       "      <th>5</th>\n",
       "      <td>g</td>\n",
       "      <td>39</td>\n",
       "    </tr>\n",
       "    <tr>\n",
       "      <th>1</th>\n",
       "      <td>c</td>\n",
       "      <td>28</td>\n",
       "    </tr>\n",
       "    <tr>\n",
       "      <th>16</th>\n",
       "      <td>p</td>\n",
       "      <td>25</td>\n",
       "    </tr>\n",
       "    <tr>\n",
       "      <th>20</th>\n",
       "      <td>t</td>\n",
       "      <td>25</td>\n",
       "    </tr>\n",
       "    <tr>\n",
       "      <th>22</th>\n",
       "      <td>v</td>\n",
       "      <td>25</td>\n",
       "    </tr>\n",
       "  </tbody>\n",
       "</table>\n",
       "</div>"
      ],
      "text/plain": [
       "    0   1\n",
       "5   g  39\n",
       "1   c  28\n",
       "16  p  25\n",
       "20  t  25\n",
       "22  v  25"
      ]
     },
     "execution_count": 22,
     "metadata": {},
     "output_type": "execute_result"
    }
   ],
   "source": [
    "show_string_distribution(shift_2).head(5)"
   ]
  },
  {
   "cell_type": "markdown",
   "metadata": {},
   "source": [
    "From the result we can imply that 'g' represent the 'e' , therefore we can know that the shift is two, so we can revert the answer to the original form "
   ]
  },
  {
   "cell_type": "markdown",
   "metadata": {},
   "source": [
    "#### Creating a function to decode the text"
   ]
  },
  {
   "cell_type": "markdown",
   "metadata": {},
   "source": [
    "As we are pretty sure that 'e' is the most common letters in the text ,we coud find the most common letter in the encoded text such as 'g' in this case . And then we can calculate the distance between 'e' and 'g' which is 2 ,then we can make a shift back to the original from "
   ]
  },
  {
   "cell_type": "markdown",
   "metadata": {},
   "source": [
    "##### First we write a function to find the shift"
   ]
  },
  {
   "cell_type": "code",
   "execution_count": 23,
   "metadata": {},
   "outputs": [],
   "source": [
    "def finding_the_shifts(shift):\n",
    "    #Finding the most common letters in the text\n",
    "    t=show_string_distribution(shift).reset_index()[0][0]\n",
    "    #Finding the distance\n",
    "    shift=ord(t)-ord('e')\n",
    "    return shift\n",
    "    \n",
    "    "
   ]
  },
  {
   "cell_type": "markdown",
   "metadata": {},
   "source": [
    "##### And then we plug in the negative value to the previous encode function to make the shift back "
   ]
  },
  {
   "cell_type": "markdown",
   "metadata": {},
   "source": [
    "As we can see, in this case, after making the shift of 2 back , the text had correclty got back to the original form"
   ]
  },
  {
   "cell_type": "code",
   "execution_count": 24,
   "metadata": {},
   "outputs": [
    {
     "data": {
      "text/plain": [
       "\"Only forty years of professional mourning kept the overwhelming frustration and hatred from showing on Amerigo Bonasera's face. His beautiful young daughter was still in the hospital with her broken jaw wired together; and now these two animales went free? It had all been a farce. He watched the happy parents cluster around their darling sons. Oh, they were all happy now, they were smiling now.\""
      ]
     },
     "execution_count": 24,
     "metadata": {},
     "output_type": "execute_result"
    }
   ],
   "source": [
    "Caesar_encode_function(shift_2,-2)"
   ]
  },
  {
   "cell_type": "markdown",
   "metadata": {},
   "source": [
    "#### Now that we can define the final decode function "
   ]
  },
  {
   "cell_type": "code",
   "execution_count": 25,
   "metadata": {},
   "outputs": [],
   "source": [
    "def decode_function(string):\n",
    "    shift=finding_the_shifts(string)\n",
    "    return Caesar_encode_function(string,-shift)\n",
    "    "
   ]
  },
  {
   "cell_type": "code",
   "execution_count": 26,
   "metadata": {},
   "outputs": [
    {
     "data": {
      "text/plain": [
       "\"Only forty years of professional mourning kept the overwhelming frustration and hatred from showing on Amerigo Bonasera's face. His beautiful young daughter was still in the hospital with her broken jaw wired together; and now these two animales went free? It had all been a farce. He watched the happy parents cluster around their darling sons. Oh, they were all happy now, they were smiling now.\""
      ]
     },
     "execution_count": 26,
     "metadata": {},
     "output_type": "execute_result"
    }
   ],
   "source": [
    "decode_function(shift_2)"
   ]
  },
  {
   "cell_type": "markdown",
   "metadata": {},
   "source": [
    "### Test the decode function "
   ]
  },
  {
   "cell_type": "markdown",
   "metadata": {},
   "source": [
    "As we had known that decode function works for the sample string, but we are not sure whether it works for other situations, so we can make some random test to test whether it is working "
   ]
  },
  {
   "cell_type": "markdown",
   "metadata": {},
   "source": [
    "I selected a part of the text from the start of my article to see whether this work out"
   ]
  },
  {
   "cell_type": "code",
   "execution_count": 27,
   "metadata": {},
   "outputs": [
    {
     "data": {
      "text/plain": [
       "'As we know that there are a list of distribution of letters in the text. During classes, professor Xu showed us the distribution of the letters in general and had used it as a vital tool to decrepit the codeHowever , I was a little doubt about that since every text has a different distribution of  letters and if we use the general form to decrepit it, some inaccuracy might occur due to the difference of the distribution So I deicided to download a long article from website and analysis the encryption and decription by using the distritbution of each letter '"
      ]
     },
     "execution_count": 27,
     "metadata": {},
     "output_type": "execute_result"
    }
   ],
   "source": [
    "String=\"As we know that there are a list of distribution of letters in the text. During classes, professor Xu showed us the distribution of the letters in general and had used it as a vital tool to decrepit the codeHowever , I was a little doubt about that since every text has a different distribution of  letters and if we use the general form to decrepit it, some inaccuracy might occur due to the difference of the distribution So I deicided to download a long article from website and analysis the encryption and decription by using the distritbution of each letter \"\n",
    "String"
   ]
  },
  {
   "cell_type": "code",
   "execution_count": 28,
   "metadata": {},
   "outputs": [],
   "source": [
    "encoded=Caesar_encode_function(String,random.randint(1,26))"
   ]
  },
  {
   "cell_type": "code",
   "execution_count": 29,
   "metadata": {},
   "outputs": [
    {
     "data": {
      "text/plain": [
       "'Sk ow cfgo lzsl lzwjw sjw s dakl gx vakljatmlagf gx dwllwjk af lzw lwpl. Vmjafy udskkwk, hjgxwkkgj Pm kzgowv mk lzw vakljatmlagf gx lzw dwllwjk af ywfwjsd sfv zsv mkwv al sk s nalsd lggd lg vwujwhal lzw ugvwZgownwj , A osk s dalldw vgmtl stgml lzsl kafuw wnwjq lwpl zsk s vaxxwjwfl vakljatmlagf gx  dwllwjk sfv ax ow mkw lzw ywfwjsd xgje lg vwujwhal al, kgew afsuumjsuq eayzl guumj vmw lg lzw vaxxwjwfuw gx lzw vakljatmlagf Kg A vwauavwv lg vgofdgsv s dgfy sjlaudw xjge owtkalw sfv sfsdqkak lzw wfujqhlagf sfv vwujahlagf tq mkafy lzw vakljaltmlagf gx wsuz dwllwj '"
      ]
     },
     "execution_count": 29,
     "metadata": {},
     "output_type": "execute_result"
    }
   ],
   "source": [
    "encoded"
   ]
  },
  {
   "cell_type": "code",
   "execution_count": 30,
   "metadata": {},
   "outputs": [
    {
     "data": {
      "text/plain": [
       "'As we know that there are a list of distribution of letters in the text. During classes, professor Xu showed us the distribution of the letters in general and had used it as a vital tool to decrepit the codeHowever , I was a little doubt about that since every text has a different distribution of  letters and if we use the general form to decrepit it, some inaccuracy might occur due to the difference of the distribution So I deicided to download a long article from website and analysis the encryption and decription by using the distritbution of each letter '"
      ]
     },
     "execution_count": 30,
     "metadata": {},
     "output_type": "execute_result"
    }
   ],
   "source": [
    "decode_function(encoded)"
   ]
  },
  {
   "cell_type": "markdown",
   "metadata": {},
   "source": [
    "From the result we can know that the decodes function works very well as no matter the random shift from 1-26 , it could always revert the text to the correct form "
   ]
  },
  {
   "cell_type": "markdown",
   "metadata": {},
   "source": [
    "## Summary "
   ]
  },
  {
   "cell_type": "markdown",
   "metadata": {},
   "source": [
    "After studying the classical Cryptography, I had known the basic logic of Crytography, which is to be hard to guess but also understandable by your allies. It's quite a hard thing since that the more understandable it is, the more possible it is to be decoded by your enemies.\n",
    "    "
   ]
  },
  {
   "cell_type": "markdown",
   "metadata": {},
   "source": [
    "As for the Caesar cipher, it's really a easy way , since the only thing you have to do is to \n",
    "making the shifts, therefore ,it's very easy to breake the code, you can even list all the correspond result and find the correct one. However, my ways of finding the shift by distribution of letter is more easy"
   ]
  },
  {
   "cell_type": "code",
   "execution_count": null,
   "metadata": {},
   "outputs": [],
   "source": []
  }
 ],
 "metadata": {
  "kernelspec": {
   "display_name": "Python 2",
   "language": "python",
   "name": "python2"
  },
  "language_info": {
   "codemirror_mode": {
    "name": "ipython",
    "version": 2
   },
   "file_extension": ".py",
   "mimetype": "text/x-python",
   "name": "python",
   "nbconvert_exporter": "python",
   "pygments_lexer": "ipython2",
   "version": "2.7.15"
  }
 },
 "nbformat": 4,
 "nbformat_minor": 2
}
